{
 "cells": [
  {
   "cell_type": "markdown",
   "id": "912b8abe",
   "metadata": {},
   "source": [
    "<h1> Importing Libraries </h1>\n"
   ]
  },
  {
   "cell_type": "code",
   "execution_count": 1,
   "id": "1c800fc2",
   "metadata": {},
   "outputs": [],
   "source": [
    "import numpy as np\n",
    "import pandas as pd\n",
    "from sklearn.model_selection import train_test_split\n",
    "from sklearn.ensemble import RandomForestClassifier\n",
    "from sklearn.metrics import confusion_matrix, accuracy_score, roc_curve, classification_report\n",
    "import seaborn as sns\n",
    "\n",
    "%matplotlib inline\n",
    "import matplotlib.pyplot as plt\n",
    "\n",
    "import warnings\n",
    "warnings.filterwarnings('ignore')\n"
   ]
  },
  {
   "cell_type": "markdown",
   "id": "804af34b",
   "metadata": {},
   "source": [
    "# Reading the data"
   ]
  },
  {
   "cell_type": "code",
   "execution_count": 2,
   "id": "ba862633",
   "metadata": {},
   "outputs": [],
   "source": [
    "df = pd.read_csv(\"Finance.csv\")"
   ]
  },
  {
   "cell_type": "code",
   "execution_count": 3,
   "id": "af32fe3d",
   "metadata": {},
   "outputs": [
    {
     "name": "stdout",
     "output_type": "stream",
     "text": [
      "<class 'pandas.core.frame.DataFrame'>\n",
      "RangeIndex: 614 entries, 0 to 613\n",
      "Data columns (total 13 columns):\n",
      " #   Column             Non-Null Count  Dtype  \n",
      "---  ------             --------------  -----  \n",
      " 0   loan_id            614 non-null    object \n",
      " 1   gender             601 non-null    object \n",
      " 2   married            611 non-null    object \n",
      " 3   dependents         599 non-null    object \n",
      " 4   education          614 non-null    object \n",
      " 5   self_employed      582 non-null    object \n",
      " 6   applicantincome    614 non-null    int64  \n",
      " 7   coapplicantincome  614 non-null    float64\n",
      " 8   loanamount         592 non-null    float64\n",
      " 9   loan_amount_term   600 non-null    float64\n",
      " 10  credit_history     564 non-null    float64\n",
      " 11  property_area      614 non-null    object \n",
      " 12  loan_status        614 non-null    object \n",
      "dtypes: float64(4), int64(1), object(8)\n",
      "memory usage: 62.5+ KB\n"
     ]
    }
   ],
   "source": [
    "df.info()"
   ]
  },
  {
   "cell_type": "code",
   "execution_count": 4,
   "id": "17dc4853",
   "metadata": {},
   "outputs": [
    {
     "data": {
      "text/html": [
       "<div>\n",
       "<style scoped>\n",
       "    .dataframe tbody tr th:only-of-type {\n",
       "        vertical-align: middle;\n",
       "    }\n",
       "\n",
       "    .dataframe tbody tr th {\n",
       "        vertical-align: top;\n",
       "    }\n",
       "\n",
       "    .dataframe thead th {\n",
       "        text-align: right;\n",
       "    }\n",
       "</style>\n",
       "<table border=\"1\" class=\"dataframe\">\n",
       "  <thead>\n",
       "    <tr style=\"text-align: right;\">\n",
       "      <th></th>\n",
       "      <th>loan_id</th>\n",
       "      <th>gender</th>\n",
       "      <th>married</th>\n",
       "      <th>dependents</th>\n",
       "      <th>education</th>\n",
       "      <th>self_employed</th>\n",
       "      <th>applicantincome</th>\n",
       "      <th>coapplicantincome</th>\n",
       "      <th>loanamount</th>\n",
       "      <th>loan_amount_term</th>\n",
       "      <th>credit_history</th>\n",
       "      <th>property_area</th>\n",
       "      <th>loan_status</th>\n",
       "    </tr>\n",
       "  </thead>\n",
       "  <tbody>\n",
       "    <tr>\n",
       "      <th>0</th>\n",
       "      <td>lp001002</td>\n",
       "      <td>male</td>\n",
       "      <td>no</td>\n",
       "      <td>0</td>\n",
       "      <td>graduate</td>\n",
       "      <td>no</td>\n",
       "      <td>5849</td>\n",
       "      <td>0.0</td>\n",
       "      <td>NaN</td>\n",
       "      <td>360.0</td>\n",
       "      <td>1.0</td>\n",
       "      <td>urban</td>\n",
       "      <td>y</td>\n",
       "    </tr>\n",
       "    <tr>\n",
       "      <th>1</th>\n",
       "      <td>lp001003</td>\n",
       "      <td>male</td>\n",
       "      <td>yes</td>\n",
       "      <td>1</td>\n",
       "      <td>graduate</td>\n",
       "      <td>no</td>\n",
       "      <td>4583</td>\n",
       "      <td>1508.0</td>\n",
       "      <td>128.0</td>\n",
       "      <td>360.0</td>\n",
       "      <td>1.0</td>\n",
       "      <td>rural</td>\n",
       "      <td>n</td>\n",
       "    </tr>\n",
       "    <tr>\n",
       "      <th>2</th>\n",
       "      <td>lp001005</td>\n",
       "      <td>male</td>\n",
       "      <td>yes</td>\n",
       "      <td>0</td>\n",
       "      <td>graduate</td>\n",
       "      <td>yes</td>\n",
       "      <td>3000</td>\n",
       "      <td>0.0</td>\n",
       "      <td>66.0</td>\n",
       "      <td>360.0</td>\n",
       "      <td>1.0</td>\n",
       "      <td>urban</td>\n",
       "      <td>y</td>\n",
       "    </tr>\n",
       "    <tr>\n",
       "      <th>3</th>\n",
       "      <td>lp001006</td>\n",
       "      <td>male</td>\n",
       "      <td>yes</td>\n",
       "      <td>0</td>\n",
       "      <td>not graduate</td>\n",
       "      <td>no</td>\n",
       "      <td>2583</td>\n",
       "      <td>2358.0</td>\n",
       "      <td>120.0</td>\n",
       "      <td>360.0</td>\n",
       "      <td>1.0</td>\n",
       "      <td>urban</td>\n",
       "      <td>y</td>\n",
       "    </tr>\n",
       "    <tr>\n",
       "      <th>4</th>\n",
       "      <td>lp001008</td>\n",
       "      <td>male</td>\n",
       "      <td>no</td>\n",
       "      <td>0</td>\n",
       "      <td>graduate</td>\n",
       "      <td>no</td>\n",
       "      <td>6000</td>\n",
       "      <td>0.0</td>\n",
       "      <td>141.0</td>\n",
       "      <td>360.0</td>\n",
       "      <td>1.0</td>\n",
       "      <td>urban</td>\n",
       "      <td>y</td>\n",
       "    </tr>\n",
       "    <tr>\n",
       "      <th>...</th>\n",
       "      <td>...</td>\n",
       "      <td>...</td>\n",
       "      <td>...</td>\n",
       "      <td>...</td>\n",
       "      <td>...</td>\n",
       "      <td>...</td>\n",
       "      <td>...</td>\n",
       "      <td>...</td>\n",
       "      <td>...</td>\n",
       "      <td>...</td>\n",
       "      <td>...</td>\n",
       "      <td>...</td>\n",
       "      <td>...</td>\n",
       "    </tr>\n",
       "    <tr>\n",
       "      <th>609</th>\n",
       "      <td>lp002978</td>\n",
       "      <td>female</td>\n",
       "      <td>no</td>\n",
       "      <td>0</td>\n",
       "      <td>graduate</td>\n",
       "      <td>no</td>\n",
       "      <td>2900</td>\n",
       "      <td>0.0</td>\n",
       "      <td>71.0</td>\n",
       "      <td>360.0</td>\n",
       "      <td>1.0</td>\n",
       "      <td>rural</td>\n",
       "      <td>y</td>\n",
       "    </tr>\n",
       "    <tr>\n",
       "      <th>610</th>\n",
       "      <td>lp002979</td>\n",
       "      <td>male</td>\n",
       "      <td>yes</td>\n",
       "      <td>3+</td>\n",
       "      <td>graduate</td>\n",
       "      <td>no</td>\n",
       "      <td>4106</td>\n",
       "      <td>0.0</td>\n",
       "      <td>40.0</td>\n",
       "      <td>180.0</td>\n",
       "      <td>1.0</td>\n",
       "      <td>rural</td>\n",
       "      <td>y</td>\n",
       "    </tr>\n",
       "    <tr>\n",
       "      <th>611</th>\n",
       "      <td>lp002983</td>\n",
       "      <td>male</td>\n",
       "      <td>yes</td>\n",
       "      <td>1</td>\n",
       "      <td>graduate</td>\n",
       "      <td>no</td>\n",
       "      <td>8072</td>\n",
       "      <td>240.0</td>\n",
       "      <td>253.0</td>\n",
       "      <td>360.0</td>\n",
       "      <td>1.0</td>\n",
       "      <td>urban</td>\n",
       "      <td>y</td>\n",
       "    </tr>\n",
       "    <tr>\n",
       "      <th>612</th>\n",
       "      <td>lp002984</td>\n",
       "      <td>male</td>\n",
       "      <td>yes</td>\n",
       "      <td>2</td>\n",
       "      <td>graduate</td>\n",
       "      <td>no</td>\n",
       "      <td>7583</td>\n",
       "      <td>0.0</td>\n",
       "      <td>187.0</td>\n",
       "      <td>360.0</td>\n",
       "      <td>1.0</td>\n",
       "      <td>urban</td>\n",
       "      <td>y</td>\n",
       "    </tr>\n",
       "    <tr>\n",
       "      <th>613</th>\n",
       "      <td>lp002990</td>\n",
       "      <td>female</td>\n",
       "      <td>no</td>\n",
       "      <td>0</td>\n",
       "      <td>graduate</td>\n",
       "      <td>yes</td>\n",
       "      <td>4583</td>\n",
       "      <td>0.0</td>\n",
       "      <td>133.0</td>\n",
       "      <td>360.0</td>\n",
       "      <td>0.0</td>\n",
       "      <td>semiurban</td>\n",
       "      <td>n</td>\n",
       "    </tr>\n",
       "  </tbody>\n",
       "</table>\n",
       "<p>614 rows × 13 columns</p>\n",
       "</div>"
      ],
      "text/plain": [
       "      loan_id  gender married dependents     education self_employed  \\\n",
       "0    lp001002    male      no          0      graduate            no   \n",
       "1    lp001003    male     yes          1      graduate            no   \n",
       "2    lp001005    male     yes          0      graduate           yes   \n",
       "3    lp001006    male     yes          0  not graduate            no   \n",
       "4    lp001008    male      no          0      graduate            no   \n",
       "..        ...     ...     ...        ...           ...           ...   \n",
       "609  lp002978  female      no          0      graduate            no   \n",
       "610  lp002979    male     yes         3+      graduate            no   \n",
       "611  lp002983    male     yes          1      graduate            no   \n",
       "612  lp002984    male     yes          2      graduate            no   \n",
       "613  lp002990  female      no          0      graduate           yes   \n",
       "\n",
       "     applicantincome  coapplicantincome  loanamount  loan_amount_term  \\\n",
       "0               5849                0.0         NaN             360.0   \n",
       "1               4583             1508.0       128.0             360.0   \n",
       "2               3000                0.0        66.0             360.0   \n",
       "3               2583             2358.0       120.0             360.0   \n",
       "4               6000                0.0       141.0             360.0   \n",
       "..               ...                ...         ...               ...   \n",
       "609             2900                0.0        71.0             360.0   \n",
       "610             4106                0.0        40.0             180.0   \n",
       "611             8072              240.0       253.0             360.0   \n",
       "612             7583                0.0       187.0             360.0   \n",
       "613             4583                0.0       133.0             360.0   \n",
       "\n",
       "     credit_history property_area loan_status  \n",
       "0               1.0         urban           y  \n",
       "1               1.0         rural           n  \n",
       "2               1.0         urban           y  \n",
       "3               1.0         urban           y  \n",
       "4               1.0         urban           y  \n",
       "..              ...           ...         ...  \n",
       "609             1.0         rural           y  \n",
       "610             1.0         rural           y  \n",
       "611             1.0         urban           y  \n",
       "612             1.0         urban           y  \n",
       "613             0.0     semiurban           n  \n",
       "\n",
       "[614 rows x 13 columns]"
      ]
     },
     "execution_count": 4,
     "metadata": {},
     "output_type": "execute_result"
    }
   ],
   "source": [
    "df"
   ]
  },
  {
   "cell_type": "code",
   "execution_count": 5,
   "id": "1d8707cf",
   "metadata": {},
   "outputs": [
    {
     "data": {
      "text/plain": [
       "loan_id              0.000000\n",
       "gender               2.117264\n",
       "married              0.488599\n",
       "dependents           2.442997\n",
       "education            0.000000\n",
       "self_employed        5.211726\n",
       "applicantincome      0.000000\n",
       "coapplicantincome    0.000000\n",
       "loanamount           3.583062\n",
       "loan_amount_term     2.280130\n",
       "credit_history       8.143322\n",
       "property_area        0.000000\n",
       "loan_status          0.000000\n",
       "dtype: float64"
      ]
     },
     "execution_count": 5,
     "metadata": {},
     "output_type": "execute_result"
    }
   ],
   "source": [
    "df.isna().sum()*100/len(df)"
   ]
  },
  {
   "cell_type": "markdown",
   "id": "50ce6b7a",
   "metadata": {},
   "source": [
    "# Missing values imputation\n"
   ]
  },
  {
   "cell_type": "code",
   "execution_count": 6,
   "id": "033f97ad",
   "metadata": {},
   "outputs": [
    {
     "data": {
      "text/plain": [
       "<Axes: xlabel='gender', ylabel='count'>"
      ]
     },
     "execution_count": 6,
     "metadata": {},
     "output_type": "execute_result"
    },
    {
     "data": {
      "image/png": "[encoded data removed]",
      "text/plain": [
       "<Figure size 640x480 with 1 Axes>"
      ]
     },
     "metadata": {},
     "output_type": "display_data"
    }
   ],
   "source": [
    "sns.countplot(x = df['gender'])"
   ]
  },
  {
   "cell_type": "code",
   "execution_count": 7,
   "id": "7f9fff02",
   "metadata": {},
   "outputs": [
    {
     "data": {
      "text/plain": [
       "'male'"
      ]
     },
     "execution_count": 7,
     "metadata": {},
     "output_type": "execute_result"
    }
   ],
   "source": [
    "df['gender'].mode()[0]"
   ]
  },
  {
   "cell_type": "markdown",
   "id": "b98564dc",
   "metadata": {},
   "source": [
    "<h3> We are using the mode value imputation which fills the null values in the gender column with the most occuring values in the column i.e., in our case the 'male' gender </h3>"
   ]
  },
  {
   "cell_type": "code",
   "execution_count": 8,
   "id": "9213e2af",
   "metadata": {},
   "outputs": [],
   "source": [
    "df['gender'] = df['gender'].fillna(df['gender'].mode()[0])"
   ]
  },
  {
   "cell_type": "markdown",
   "id": "98fd60f3",
   "metadata": {},
   "source": [
    "<h3>WE try to fill the values in other columns with the mode value imputation as well.</h3>"
   ]
  },
  {
   "cell_type": "code",
   "execution_count": 9,
   "id": "b7c84672",
   "metadata": {},
   "outputs": [
    {
     "data": {
      "text/plain": [
       "<Axes: xlabel='married', ylabel='count'>"
      ]
     },
     "execution_count": 9,
     "metadata": {},
     "output_type": "execute_result"
    },
    {
     "data": {
      "image/png": "[encoded data removed]",
      "text/plain": [
       "<Figure size 640x480 with 1 Axes>"
      ]
     },
     "metadata": {},
     "output_type": "display_data"
    }
   ],
   "source": [
    "sns.countplot(x = df['married'])"
   ]
  },
  {
   "cell_type": "code",
   "execution_count": 10,
   "id": "b4ca1757",
   "metadata": {},
   "outputs": [
    {
     "data": {
      "text/plain": [
       "'yes'"
      ]
     },
     "execution_count": 10,
     "metadata": {},
     "output_type": "execute_result"
    }
   ],
   "source": [
    "df['married'].mode()[0]"
   ]
  },
  {
   "cell_type": "code",
   "execution_count": 11,
   "id": "e1b15d18",
   "metadata": {},
   "outputs": [],
   "source": [
    "df['married'] = df['married'].fillna(df['married'].mode()[0])"
   ]
  },
  {
   "cell_type": "markdown",
   "id": "1f895d87",
   "metadata": {},
   "source": [
    "<h4> Working on other columns </h4>\n",
    "<h5> Dependents column </h5>"
   ]
  },
  {
   "cell_type": "code",
   "execution_count": 12,
   "id": "0d493323",
   "metadata": {},
   "outputs": [
    {
     "data": {
      "text/plain": [
       "<Axes: xlabel='dependents', ylabel='count'>"
      ]
     },
     "execution_count": 12,
     "metadata": {},
     "output_type": "execute_result"
    },
    {
     "data": {
      "image/png": "[encoded data removed]",
      "text/plain": [
       "<Figure size 640x480 with 1 Axes>"
      ]
     },
     "metadata": {},
     "output_type": "display_data"
    }
   ],
   "source": [
    "sns.countplot(x = df['dependents'])"
   ]
  },
  {
   "cell_type": "code",
   "execution_count": 13,
   "id": "9ac9f4f7",
   "metadata": {},
   "outputs": [
    {
     "data": {
      "text/plain": [
       "dependents\n",
       "0     345\n",
       "1     102\n",
       "2     101\n",
       "3+     51\n",
       "Name: count, dtype: int64"
      ]
     },
     "execution_count": 13,
     "metadata": {},
     "output_type": "execute_result"
    }
   ],
   "source": [
    "df['dependents'].value_counts()"
   ]
  },
  {
   "cell_type": "code",
   "execution_count": 14,
   "id": "75511d1e",
   "metadata": {},
   "outputs": [
    {
     "data": {
      "text/plain": [
       "'0'"
      ]
     },
     "execution_count": 14,
     "metadata": {},
     "output_type": "execute_result"
    }
   ],
   "source": [
    "df['dependents'].mode()[0]"
   ]
  },
  {
   "cell_type": "code",
   "execution_count": 15,
   "id": "01cb33a9",
   "metadata": {},
   "outputs": [],
   "source": [
    "df['dependents'] = df['dependents'].fillna(df['dependents']).mode()[0]"
   ]
  },
  {
   "cell_type": "markdown",
   "id": "3f439eba",
   "metadata": {},
   "source": [
    "<h5> Self-employed </h5>"
   ]
  },
  {
   "cell_type": "code",
   "execution_count": 16,
   "id": "1091f9b4",
   "metadata": {},
   "outputs": [
    {
     "data": {
      "text/plain": [
       "<Axes: xlabel='self_employed', ylabel='count'>"
      ]
     },
     "execution_count": 16,
     "metadata": {},
     "output_type": "execute_result"
    },
    {
     "data": {
      "image/png": "[encoded data removed]",
      "text/plain": [
       "<Figure size 640x480 with 1 Axes>"
      ]
     },
     "metadata": {},
     "output_type": "display_data"
    }
   ],
   "source": [
    "sns.countplot(x = df['self_employed'])"
   ]
  },
  {
   "cell_type": "code",
   "execution_count": 17,
   "id": "ab7d22d4",
   "metadata": {},
   "outputs": [
    {
     "data": {
      "text/plain": [
       "'no'"
      ]
     },
     "execution_count": 17,
     "metadata": {},
     "output_type": "execute_result"
    }
   ],
   "source": [
    "df['self_employed'].mode()[0]"
   ]
  },
  {
   "cell_type": "code",
   "execution_count": 18,
   "id": "95912558",
   "metadata": {},
   "outputs": [],
   "source": [
    "df['self_employed'] = df['self_employed'].fillna(df['self_employed'].mode()[0])"
   ]
  },
  {
   "cell_type": "code",
   "execution_count": 19,
   "id": "4fcd9d64",
   "metadata": {},
   "outputs": [
    {
     "data": {
      "text/plain": [
       "loan_id              0.000000\n",
       "gender               0.000000\n",
       "married              0.000000\n",
       "dependents           0.000000\n",
       "education            0.000000\n",
       "self_employed        0.000000\n",
       "applicantincome      0.000000\n",
       "coapplicantincome    0.000000\n",
       "loanamount           3.583062\n",
       "loan_amount_term     2.280130\n",
       "credit_history       8.143322\n",
       "property_area        0.000000\n",
       "loan_status          0.000000\n",
       "dtype: float64"
      ]
     },
     "execution_count": 19,
     "metadata": {},
     "output_type": "execute_result"
    }
   ],
   "source": [
    "#Chekcing if still any of the column has any null values\n",
    "df.isna().sum()*100/len(df)"
   ]
  },
  {
   "cell_type": "markdown",
   "id": "1fbc743d",
   "metadata": {},
   "source": [
    "<h4> Loan Amount </h4>\n",
    "\n",
    "<h5> Numerical columns imputation </h5>\n",
    "We are using the median value imputation"
   ]
  },
  {
   "cell_type": "code",
   "execution_count": 20,
   "id": "bf925ce7",
   "metadata": {},
   "outputs": [
    {
     "data": {
      "text/plain": [
       "128.0"
      ]
     },
     "execution_count": 20,
     "metadata": {},
     "output_type": "execute_result"
    }
   ],
   "source": [
    "df['loanamount'].median()"
   ]
  },
  {
   "cell_type": "code",
   "execution_count": 21,
   "id": "a6da88e1",
   "metadata": {},
   "outputs": [],
   "source": [
    "df['loanamount'] = df['loanamount'].fillna(df['loanamount'].median())"
   ]
  },
  {
   "cell_type": "markdown",
   "id": "7c456292",
   "metadata": {},
   "source": [
    "<h4> Loan Amount term </h4>"
   ]
  },
  {
   "cell_type": "code",
   "execution_count": 22,
   "id": "b0628eb0",
   "metadata": {},
   "outputs": [
    {
     "data": {
      "text/plain": [
       "360.0"
      ]
     },
     "execution_count": 22,
     "metadata": {},
     "output_type": "execute_result"
    }
   ],
   "source": [
    "df['loan_amount_term'].median()"
   ]
  },
  {
   "cell_type": "code",
   "execution_count": 23,
   "id": "ed3a4dae",
   "metadata": {},
   "outputs": [],
   "source": [
    "df['loan_amount_term'] = df['loan_amount_term'].fillna(df['loan_amount_term'].median())"
   ]
  },
  {
   "cell_type": "markdown",
   "id": "05b1cba4",
   "metadata": {},
   "source": [
    "<h4> Credit History </h4>"
   ]
  },
  {
   "cell_type": "code",
   "execution_count": 24,
   "id": "46c70e9e",
   "metadata": {},
   "outputs": [
    {
     "data": {
      "text/plain": [
       "<Axes: xlabel='credit_history', ylabel='count'>"
      ]
     },
     "execution_count": 24,
     "metadata": {},
     "output_type": "execute_result"
    },
    {
     "data": {
      "image/png": "[encoded data removed]",
      "text/plain": [
       "<Figure size 640x480 with 1 Axes>"
      ]
     },
     "metadata": {},
     "output_type": "display_data"
    }
   ],
   "source": [
    "sns.countplot(x = df['credit_history'])"
   ]
  },
  {
   "cell_type": "code",
   "execution_count": 25,
   "id": "824e25bb",
   "metadata": {},
   "outputs": [
    {
     "data": {
      "text/plain": [
       "1.0"
      ]
     },
     "execution_count": 25,
     "metadata": {},
     "output_type": "execute_result"
    }
   ],
   "source": [
    "df['credit_history'].mode()[0]"
   ]
  },
  {
   "cell_type": "code",
   "execution_count": 26,
   "id": "2b706716",
   "metadata": {},
   "outputs": [],
   "source": [
    "df['credit_history'] = df['credit_history'].fillna(df['credit_history']).mode()[0]"
   ]
  },
  {
   "cell_type": "code",
   "execution_count": 27,
   "id": "716bb7b5",
   "metadata": {},
   "outputs": [
    {
     "data": {
      "text/plain": [
       "loan_id              0\n",
       "gender               0\n",
       "married              0\n",
       "dependents           0\n",
       "education            0\n",
       "self_employed        0\n",
       "applicantincome      0\n",
       "coapplicantincome    0\n",
       "loanamount           0\n",
       "loan_amount_term     0\n",
       "credit_history       0\n",
       "property_area        0\n",
       "loan_status          0\n",
       "dtype: int64"
      ]
     },
     "execution_count": 27,
     "metadata": {},
     "output_type": "execute_result"
    }
   ],
   "source": [
    "df.isna().sum()"
   ]
  },
  {
   "cell_type": "markdown",
   "id": "bae60653",
   "metadata": {},
   "source": [
    "# Feature Creation"
   ]
  },
  {
   "cell_type": "code",
   "execution_count": 28,
   "id": "b62b7189",
   "metadata": {},
   "outputs": [
    {
     "data": {
      "text/html": [
       "<div>\n",
       "<style scoped>\n",
       "    .dataframe tbody tr th:only-of-type {\n",
       "        vertical-align: middle;\n",
       "    }\n",
       "\n",
       "    .dataframe tbody tr th {\n",
       "        vertical-align: top;\n",
       "    }\n",
       "\n",
       "    .dataframe thead th {\n",
       "        text-align: right;\n",
       "    }\n",
       "</style>\n",
       "<table border=\"1\" class=\"dataframe\">\n",
       "  <thead>\n",
       "    <tr style=\"text-align: right;\">\n",
       "      <th></th>\n",
       "      <th>loan_id</th>\n",
       "      <th>gender</th>\n",
       "      <th>married</th>\n",
       "      <th>dependents</th>\n",
       "      <th>education</th>\n",
       "      <th>self_employed</th>\n",
       "      <th>applicantincome</th>\n",
       "      <th>coapplicantincome</th>\n",
       "      <th>loanamount</th>\n",
       "      <th>loan_amount_term</th>\n",
       "      <th>credit_history</th>\n",
       "      <th>property_area</th>\n",
       "      <th>loan_status</th>\n",
       "    </tr>\n",
       "  </thead>\n",
       "  <tbody>\n",
       "    <tr>\n",
       "      <th>0</th>\n",
       "      <td>lp001002</td>\n",
       "      <td>male</td>\n",
       "      <td>no</td>\n",
       "      <td>0</td>\n",
       "      <td>graduate</td>\n",
       "      <td>no</td>\n",
       "      <td>5849</td>\n",
       "      <td>0.0</td>\n",
       "      <td>128.0</td>\n",
       "      <td>360.0</td>\n",
       "      <td>1.0</td>\n",
       "      <td>urban</td>\n",
       "      <td>y</td>\n",
       "    </tr>\n",
       "    <tr>\n",
       "      <th>1</th>\n",
       "      <td>lp001003</td>\n",
       "      <td>male</td>\n",
       "      <td>yes</td>\n",
       "      <td>0</td>\n",
       "      <td>graduate</td>\n",
       "      <td>no</td>\n",
       "      <td>4583</td>\n",
       "      <td>1508.0</td>\n",
       "      <td>128.0</td>\n",
       "      <td>360.0</td>\n",
       "      <td>1.0</td>\n",
       "      <td>rural</td>\n",
       "      <td>n</td>\n",
       "    </tr>\n",
       "    <tr>\n",
       "      <th>2</th>\n",
       "      <td>lp001005</td>\n",
       "      <td>male</td>\n",
       "      <td>yes</td>\n",
       "      <td>0</td>\n",
       "      <td>graduate</td>\n",
       "      <td>yes</td>\n",
       "      <td>3000</td>\n",
       "      <td>0.0</td>\n",
       "      <td>66.0</td>\n",
       "      <td>360.0</td>\n",
       "      <td>1.0</td>\n",
       "      <td>urban</td>\n",
       "      <td>y</td>\n",
       "    </tr>\n",
       "    <tr>\n",
       "      <th>3</th>\n",
       "      <td>lp001006</td>\n",
       "      <td>male</td>\n",
       "      <td>yes</td>\n",
       "      <td>0</td>\n",
       "      <td>not graduate</td>\n",
       "      <td>no</td>\n",
       "      <td>2583</td>\n",
       "      <td>2358.0</td>\n",
       "      <td>120.0</td>\n",
       "      <td>360.0</td>\n",
       "      <td>1.0</td>\n",
       "      <td>urban</td>\n",
       "      <td>y</td>\n",
       "    </tr>\n",
       "    <tr>\n",
       "      <th>4</th>\n",
       "      <td>lp001008</td>\n",
       "      <td>male</td>\n",
       "      <td>no</td>\n",
       "      <td>0</td>\n",
       "      <td>graduate</td>\n",
       "      <td>no</td>\n",
       "      <td>6000</td>\n",
       "      <td>0.0</td>\n",
       "      <td>141.0</td>\n",
       "      <td>360.0</td>\n",
       "      <td>1.0</td>\n",
       "      <td>urban</td>\n",
       "      <td>y</td>\n",
       "    </tr>\n",
       "  </tbody>\n",
       "</table>\n",
       "</div>"
      ],
      "text/plain": [
       "    loan_id gender married dependents     education self_employed  \\\n",
       "0  lp001002   male      no          0      graduate            no   \n",
       "1  lp001003   male     yes          0      graduate            no   \n",
       "2  lp001005   male     yes          0      graduate           yes   \n",
       "3  lp001006   male     yes          0  not graduate            no   \n",
       "4  lp001008   male      no          0      graduate            no   \n",
       "\n",
       "   applicantincome  coapplicantincome  loanamount  loan_amount_term  \\\n",
       "0             5849                0.0       128.0             360.0   \n",
       "1             4583             1508.0       128.0             360.0   \n",
       "2             3000                0.0        66.0             360.0   \n",
       "3             2583             2358.0       120.0             360.0   \n",
       "4             6000                0.0       141.0             360.0   \n",
       "\n",
       "   credit_history property_area loan_status  \n",
       "0             1.0         urban           y  \n",
       "1             1.0         rural           n  \n",
       "2             1.0         urban           y  \n",
       "3             1.0         urban           y  \n",
       "4             1.0         urban           y  "
      ]
     },
     "execution_count": 28,
     "metadata": {},
     "output_type": "execute_result"
    }
   ],
   "source": [
    "df.head()"
   ]
  },
  {
   "cell_type": "code",
   "execution_count": 45,
   "id": "bedd6d70",
   "metadata": {},
   "outputs": [],
   "source": [
    "df.replace({\n",
    "    \"loan_status\":{\"n\":0, \"y\":1},\n",
    "    \"gender\":{'male':0, 'female':1},\n",
    "    \"education\":{'not graduate':0, 'graduate':1},\n",
    "    \"married\":{'no':0, 'yes':1},\n",
    "    'self_employed':{'no':0, 'yes':1}    \n",
    "}, inplace=True)"
   ]
  },
  {
   "cell_type": "code",
   "execution_count": 46,
   "id": "7cfc9422",
   "metadata": {},
   "outputs": [
    {
     "data": {
      "text/html": [
       "<div>\n",
       "<style scoped>\n",
       "    .dataframe tbody tr th:only-of-type {\n",
       "        vertical-align: middle;\n",
       "    }\n",
       "\n",
       "    .dataframe tbody tr th {\n",
       "        vertical-align: top;\n",
       "    }\n",
       "\n",
       "    .dataframe thead th {\n",
       "        text-align: right;\n",
       "    }\n",
       "</style>\n",
       "<table border=\"1\" class=\"dataframe\">\n",
       "  <thead>\n",
       "    <tr style=\"text-align: right;\">\n",
       "      <th></th>\n",
       "      <th>loan_id</th>\n",
       "      <th>gender</th>\n",
       "      <th>married</th>\n",
       "      <th>dependents</th>\n",
       "      <th>education</th>\n",
       "      <th>self_employed</th>\n",
       "      <th>applicantincome</th>\n",
       "      <th>coapplicantincome</th>\n",
       "      <th>loanamount</th>\n",
       "      <th>loan_amount_term</th>\n",
       "      <th>credit_history</th>\n",
       "      <th>property_area</th>\n",
       "      <th>loan_status</th>\n",
       "    </tr>\n",
       "  </thead>\n",
       "  <tbody>\n",
       "    <tr>\n",
       "      <th>0</th>\n",
       "      <td>lp001002</td>\n",
       "      <td>0</td>\n",
       "      <td>0</td>\n",
       "      <td>0</td>\n",
       "      <td>1</td>\n",
       "      <td>0</td>\n",
       "      <td>5849</td>\n",
       "      <td>0.0</td>\n",
       "      <td>128.0</td>\n",
       "      <td>360.0</td>\n",
       "      <td>1.0</td>\n",
       "      <td>urban</td>\n",
       "      <td>1</td>\n",
       "    </tr>\n",
       "    <tr>\n",
       "      <th>1</th>\n",
       "      <td>lp001003</td>\n",
       "      <td>0</td>\n",
       "      <td>1</td>\n",
       "      <td>0</td>\n",
       "      <td>1</td>\n",
       "      <td>0</td>\n",
       "      <td>4583</td>\n",
       "      <td>1508.0</td>\n",
       "      <td>128.0</td>\n",
       "      <td>360.0</td>\n",
       "      <td>1.0</td>\n",
       "      <td>rural</td>\n",
       "      <td>0</td>\n",
       "    </tr>\n",
       "    <tr>\n",
       "      <th>2</th>\n",
       "      <td>lp001005</td>\n",
       "      <td>0</td>\n",
       "      <td>1</td>\n",
       "      <td>0</td>\n",
       "      <td>1</td>\n",
       "      <td>1</td>\n",
       "      <td>3000</td>\n",
       "      <td>0.0</td>\n",
       "      <td>66.0</td>\n",
       "      <td>360.0</td>\n",
       "      <td>1.0</td>\n",
       "      <td>urban</td>\n",
       "      <td>1</td>\n",
       "    </tr>\n",
       "    <tr>\n",
       "      <th>3</th>\n",
       "      <td>lp001006</td>\n",
       "      <td>0</td>\n",
       "      <td>1</td>\n",
       "      <td>0</td>\n",
       "      <td>0</td>\n",
       "      <td>0</td>\n",
       "      <td>2583</td>\n",
       "      <td>2358.0</td>\n",
       "      <td>120.0</td>\n",
       "      <td>360.0</td>\n",
       "      <td>1.0</td>\n",
       "      <td>urban</td>\n",
       "      <td>1</td>\n",
       "    </tr>\n",
       "    <tr>\n",
       "      <th>4</th>\n",
       "      <td>lp001008</td>\n",
       "      <td>0</td>\n",
       "      <td>0</td>\n",
       "      <td>0</td>\n",
       "      <td>1</td>\n",
       "      <td>0</td>\n",
       "      <td>6000</td>\n",
       "      <td>0.0</td>\n",
       "      <td>141.0</td>\n",
       "      <td>360.0</td>\n",
       "      <td>1.0</td>\n",
       "      <td>urban</td>\n",
       "      <td>1</td>\n",
       "    </tr>\n",
       "    <tr>\n",
       "      <th>...</th>\n",
       "      <td>...</td>\n",
       "      <td>...</td>\n",
       "      <td>...</td>\n",
       "      <td>...</td>\n",
       "      <td>...</td>\n",
       "      <td>...</td>\n",
       "      <td>...</td>\n",
       "      <td>...</td>\n",
       "      <td>...</td>\n",
       "      <td>...</td>\n",
       "      <td>...</td>\n",
       "      <td>...</td>\n",
       "      <td>...</td>\n",
       "    </tr>\n",
       "    <tr>\n",
       "      <th>609</th>\n",
       "      <td>lp002978</td>\n",
       "      <td>1</td>\n",
       "      <td>0</td>\n",
       "      <td>0</td>\n",
       "      <td>1</td>\n",
       "      <td>0</td>\n",
       "      <td>2900</td>\n",
       "      <td>0.0</td>\n",
       "      <td>71.0</td>\n",
       "      <td>360.0</td>\n",
       "      <td>1.0</td>\n",
       "      <td>rural</td>\n",
       "      <td>1</td>\n",
       "    </tr>\n",
       "    <tr>\n",
       "      <th>610</th>\n",
       "      <td>lp002979</td>\n",
       "      <td>0</td>\n",
       "      <td>1</td>\n",
       "      <td>0</td>\n",
       "      <td>1</td>\n",
       "      <td>0</td>\n",
       "      <td>4106</td>\n",
       "      <td>0.0</td>\n",
       "      <td>40.0</td>\n",
       "      <td>180.0</td>\n",
       "      <td>1.0</td>\n",
       "      <td>rural</td>\n",
       "      <td>1</td>\n",
       "    </tr>\n",
       "    <tr>\n",
       "      <th>611</th>\n",
       "      <td>lp002983</td>\n",
       "      <td>0</td>\n",
       "      <td>1</td>\n",
       "      <td>0</td>\n",
       "      <td>1</td>\n",
       "      <td>0</td>\n",
       "      <td>8072</td>\n",
       "      <td>240.0</td>\n",
       "      <td>253.0</td>\n",
       "      <td>360.0</td>\n",
       "      <td>1.0</td>\n",
       "      <td>urban</td>\n",
       "      <td>1</td>\n",
       "    </tr>\n",
       "    <tr>\n",
       "      <th>612</th>\n",
       "      <td>lp002984</td>\n",
       "      <td>0</td>\n",
       "      <td>1</td>\n",
       "      <td>0</td>\n",
       "      <td>1</td>\n",
       "      <td>0</td>\n",
       "      <td>7583</td>\n",
       "      <td>0.0</td>\n",
       "      <td>187.0</td>\n",
       "      <td>360.0</td>\n",
       "      <td>1.0</td>\n",
       "      <td>urban</td>\n",
       "      <td>1</td>\n",
       "    </tr>\n",
       "    <tr>\n",
       "      <th>613</th>\n",
       "      <td>lp002990</td>\n",
       "      <td>1</td>\n",
       "      <td>0</td>\n",
       "      <td>0</td>\n",
       "      <td>1</td>\n",
       "      <td>1</td>\n",
       "      <td>4583</td>\n",
       "      <td>0.0</td>\n",
       "      <td>133.0</td>\n",
       "      <td>360.0</td>\n",
       "      <td>1.0</td>\n",
       "      <td>semiurban</td>\n",
       "      <td>0</td>\n",
       "    </tr>\n",
       "  </tbody>\n",
       "</table>\n",
       "<p>614 rows × 13 columns</p>\n",
       "</div>"
      ],
      "text/plain": [
       "      loan_id  gender  married dependents  education  self_employed  \\\n",
       "0    lp001002       0        0          0          1              0   \n",
       "1    lp001003       0        1          0          1              0   \n",
       "2    lp001005       0        1          0          1              1   \n",
       "3    lp001006       0        1          0          0              0   \n",
       "4    lp001008       0        0          0          1              0   \n",
       "..        ...     ...      ...        ...        ...            ...   \n",
       "609  lp002978       1        0          0          1              0   \n",
       "610  lp002979       0        1          0          1              0   \n",
       "611  lp002983       0        1          0          1              0   \n",
       "612  lp002984       0        1          0          1              0   \n",
       "613  lp002990       1        0          0          1              1   \n",
       "\n",
       "     applicantincome  coapplicantincome  loanamount  loan_amount_term  \\\n",
       "0               5849                0.0       128.0             360.0   \n",
       "1               4583             1508.0       128.0             360.0   \n",
       "2               3000                0.0        66.0             360.0   \n",
       "3               2583             2358.0       120.0             360.0   \n",
       "4               6000                0.0       141.0             360.0   \n",
       "..               ...                ...         ...               ...   \n",
       "609             2900                0.0        71.0             360.0   \n",
       "610             4106                0.0        40.0             180.0   \n",
       "611             8072              240.0       253.0             360.0   \n",
       "612             7583                0.0       187.0             360.0   \n",
       "613             4583                0.0       133.0             360.0   \n",
       "\n",
       "     credit_history property_area  loan_status  \n",
       "0               1.0         urban            1  \n",
       "1               1.0         rural            0  \n",
       "2               1.0         urban            1  \n",
       "3               1.0         urban            1  \n",
       "4               1.0         urban            1  \n",
       "..              ...           ...          ...  \n",
       "609             1.0         rural            1  \n",
       "610             1.0         rural            1  \n",
       "611             1.0         urban            1  \n",
       "612             1.0         urban            1  \n",
       "613             1.0     semiurban            0  \n",
       "\n",
       "[614 rows x 13 columns]"
      ]
     },
     "execution_count": 46,
     "metadata": {},
     "output_type": "execute_result"
    }
   ],
   "source": [
    "df"
   ]
  },
  {
   "cell_type": "markdown",
   "id": "7cfad957",
   "metadata": {},
   "source": [
    "# Splitting the data"
   ]
  },
  {
   "cell_type": "code",
   "execution_count": 47,
   "id": "2aaf8c2a",
   "metadata": {},
   "outputs": [],
   "source": [
    "def train_test_split_and_features(df):\n",
    "    y = df['loan_status']\n",
    "    X = df.drop(['loan_status', 'loan_id'], axis= 1)\n",
    "    X = pd.get_dummies(data = X, columns = [\"property_area\", \"dependents\"])\n",
    "    X_train, X_test, y_train, y_test = train_test_split(X, y, test_size=0.30, random_state = 0)\n",
    "    print(X.head(5))\n",
    "    print(X.columns)\n",
    "    features = list(X.columns)\n",
    "    return X_train, X_test, y_train, y_test, features\n",
    "    "
   ]
  },
  {
   "cell_type": "markdown",
   "id": "aeef0ca1",
   "metadata": {},
   "source": [
    "<h3> We are using the one-hot-encoding technique to convert the categorical variables into binary variables. Basically if we use the property_area column which has 3 categorie, it will convert the 3 variables into 3 new columns that will have 0 and 1 values i.e., each categorybecomes a column and each column will say whether that particular loan applicant has '1' that is propert_area_rural, properrty_Area_urban, property_area_suburban or 0 if they are not that specific property_area </h3>"
   ]
  },
  {
   "cell_type": "code",
   "execution_count": 48,
   "id": "e0a7d2b7",
   "metadata": {},
   "outputs": [
    {
     "name": "stdout",
     "output_type": "stream",
     "text": [
      "   gender  married  education  self_employed  applicantincome  \\\n",
      "0       0        0          1              0             5849   \n",
      "1       0        1          1              0             4583   \n",
      "2       0        1          1              1             3000   \n",
      "3       0        1          0              0             2583   \n",
      "4       0        0          1              0             6000   \n",
      "\n",
      "   coapplicantincome  loanamount  loan_amount_term  credit_history  \\\n",
      "0                0.0       128.0             360.0             1.0   \n",
      "1             1508.0       128.0             360.0             1.0   \n",
      "2                0.0        66.0             360.0             1.0   \n",
      "3             2358.0       120.0             360.0             1.0   \n",
      "4                0.0       141.0             360.0             1.0   \n",
      "\n",
      "   property_area_rural  property_area_semiurban  property_area_urban  \\\n",
      "0                False                    False                 True   \n",
      "1                 True                    False                False   \n",
      "2                False                    False                 True   \n",
      "3                False                    False                 True   \n",
      "4                False                    False                 True   \n",
      "\n",
      "   dependents_0  \n",
      "0          True  \n",
      "1          True  \n",
      "2          True  \n",
      "3          True  \n",
      "4          True  \n",
      "Index(['gender', 'married', 'education', 'self_employed', 'applicantincome',\n",
      "       'coapplicantincome', 'loanamount', 'loan_amount_term', 'credit_history',\n",
      "       'property_area_rural', 'property_area_semiurban', 'property_area_urban',\n",
      "       'dependents_0'],\n",
      "      dtype='object')\n"
     ]
    }
   ],
   "source": [
    "X_train, X_test, y_train, y_test, features = train_test_split_and_features(df)"
   ]
  },
  {
   "cell_type": "markdown",
   "id": "e60bc0b9",
   "metadata": {},
   "source": [
    "# Fit and evaluate the model\n"
   ]
  },
  {
   "cell_type": "code",
   "execution_count": 55,
   "id": "796c48f8",
   "metadata": {},
   "outputs": [],
   "source": [
    "def fit_and_evaluate(X_train, X_test, y_train, y_test):\n",
    "    random_forest = RandomForestClassifier(random_state=0,\n",
    "                                         max_depth=4,\n",
    "                                         min_samples_split=0.01,\n",
    "                                         max_features=0.85,\n",
    "                                         max_samples= 0.8)\n",
    "    model = random_forest.fit(X_train, y_train)\n",
    "    random_forest_predict = random_forest.predict(X_test)\n",
    "    random_forest_conf_matrix = confusion_matrix(y_test, random_forest_predict)\n",
    "    random_forest_acc_score = accuracy_score(y_test, random_forest_predict)\n",
    "    print(\"Confusion matrix\")\n",
    "    print(random_forest_conf_matrix)\n",
    "    print(\"\\n\")\n",
    "    print(\"Accuracy of Random Forest:\", random_forest_acc_score*100, '\\n')\n",
    "    print(classification_report(y_test, random_forest_predict))\n",
    "    return model"
   ]
  },
  {
   "cell_type": "code",
   "execution_count": 56,
   "id": "ce5b3fc2",
   "metadata": {},
   "outputs": [
    {
     "name": "stdout",
     "output_type": "stream",
     "text": [
      "Confusion matrix\n",
      "[[  3  48]\n",
      " [  1 133]]\n",
      "\n",
      "\n",
      "Accuracy of Random Forest: 73.51351351351352 \n",
      "\n",
      "              precision    recall  f1-score   support\n",
      "\n",
      "           0       0.75      0.06      0.11        51\n",
      "           1       0.73      0.99      0.84       134\n",
      "\n",
      "    accuracy                           0.74       185\n",
      "   macro avg       0.74      0.53      0.48       185\n",
      "weighted avg       0.74      0.74      0.64       185\n",
      "\n"
     ]
    }
   ],
   "source": [
    "model = fit_and_evaluate(X_train, X_test, y_train, y_test)"
   ]
  },
  {
   "cell_type": "code",
   "execution_count": 61,
   "id": "7a9896e4",
   "metadata": {},
   "outputs": [],
   "source": [
    "importances = pd.DataFrame(model.feature_importances_)\n",
    "importances['features'] = features\n",
    "importances.columns = ['importance', 'feature']\n",
    "importances.sort_values(by = 'importance', ascending=True, inplace=True)"
   ]
  },
  {
   "cell_type": "markdown",
   "id": "53c51d87",
   "metadata": {},
   "source": [
    "# Feature Importance"
   ]
  },
  {
   "cell_type": "code",
   "execution_count": 62,
   "id": "93eb1915",
   "metadata": {},
   "outputs": [
    {
     "data": {
      "text/plain": [
       "<BarContainer object of 13 artists>"
      ]
     },
     "execution_count": 62,
     "metadata": {},
     "output_type": "execute_result"
    },
    {
     "data": {
      "image/png": "[encoded data removed]",
      "text/plain": [
       "<Figure size 640x480 with 1 Axes>"
      ]
     },
     "metadata": {},
     "output_type": "display_data"
    }
   ],
   "source": [
    "plt.barh(importances.feature, importances.importance)"
   ]
  },
  {
   "cell_type": "code",
   "execution_count": 65,
   "id": "08a7a416",
   "metadata": {},
   "outputs": [
    {
     "name": "stdout",
     "output_type": "stream",
     "text": [
      "[[0.3625318  0.6374682 ]\n",
      " [0.25765741 0.74234259]\n",
      " [0.49232607 0.50767393]\n",
      " [0.25833789 0.74166211]\n",
      " [0.18606162 0.81393838]\n",
      " [0.41620174 0.58379826]\n",
      " [0.36034259 0.63965741]\n",
      " [0.42304602 0.57695398]\n",
      " [0.37172409 0.62827591]\n",
      " [0.22374941 0.77625059]]\n",
      "[1 1 1 1 1 1 1 1 1 1 1 1 1 1 1 1 1 1 1 1 1 1 1 1 1 1 1 1 1 1 1 1 1 1 1 1 1\n",
      " 1 1 1 1 1 1 1 1 1 1 1 1 1 1 1 1 1 1 1 1 1 1 1 1 1 1 1 1 1 1 1 1 1 1 1 1 1\n",
      " 1 1 0 0 1 1 1 1 1 1 1 1 1 1 1 1 1 1 1 1 1 1 1 1 1 1 1 1 1 1 1 1 1 1 1 0 1\n",
      " 1 1 1 1 1 1 1 1 1 1 1 1 1 1 1 1 1 1 1 1 1 1 1 1 1 1 1 1 1 1 1 1 1 1 1 1 1\n",
      " 1 1 1 1 1 1 1 1 1 1 1 1 1 1 1 1 1 1 1 0 1 1 1 1 1 1 1 1 1 1 1 1 1 1 1 1 1]\n"
     ]
    }
   ],
   "source": [
    "# Predictions as probability\n",
    "rf_proba = model.predict_proba(X_test)\n",
    "rf_predict = model.predict(X_test)\n",
    "print(rf_proba[0:10])\n",
    "print(rf_predict)"
   ]
  },
  {
   "cell_type": "code",
   "execution_count": null,
   "id": "7e0efcc8",
   "metadata": {},
   "outputs": [],
   "source": [
    "-p"
   ]
  }
 ],
 "metadata": {
  "kernelspec": {
   "display_name": "Python 3 (ipykernel)",
   "language": "python",
   "name": "python3"
  },
  "language_info": {
   "codemirror_mode": {
    "name": "ipython",
    "version": 3
   },
   "file_extension": ".py",
   "mimetype": "text/x-python",
   "name": "python",
   "nbconvert_exporter": "python",
   "pygments_lexer": "ipython3",
   "version": "3.11.7"
  }
 },
 "nbformat": 4,
 "nbformat_minor": 5
}
